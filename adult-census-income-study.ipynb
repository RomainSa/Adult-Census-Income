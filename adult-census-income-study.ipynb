{
 "cells": [
  {
   "cell_type": "markdown",
   "metadata": {},
   "source": [
    "# Préambule - Environnement de travail"
   ]
  },
  {
   "cell_type": "markdown",
   "metadata": {},
   "source": [
    "Ce notebook a été réalisé à partir de la dernière image Docker de Anaconda pour Python 3.  \n",
    "Il a été lancé via la commande suivante:\n",
    "\n",
    "```console\n",
    "sudo docker run -i -t -p 8888:8888 continuumio/anaconda3 /bin/bash -c \"/opt/conda/bin/conda install jupyter -y --quiet && mkdir /opt/notebooks && /opt/conda/bin/jupyter notebook --notebook-dir=/opt/notebooks --ip='*' --port=8888 --no-browser\" \n",
    "```\n",
    "\n",
    "L'image Docker en question est dispo [à cette adresse](https://hub.docker.com/r/continuumio/anaconda3/). "
   ]
  },
  {
   "cell_type": "markdown",
   "metadata": {},
   "source": [
    "# I - Description des données et visualisation"
   ]
  },
  {
   "cell_type": "markdown",
   "metadata": {},
   "source": [
    "### Import des modules et fonctions utiles"
   ]
  },
  {
   "cell_type": "code",
   "execution_count": 1,
   "metadata": {
    "collapsed": false
   },
   "outputs": [],
   "source": [
    "import pandas as pd\n",
    "\n",
    "from sklearn.tree import DecisionTreeClassifier\n",
    "from sklearn.linear_model import LogisticRegression\n",
    "from sklearn.preprocessing import scale\n",
    "from sklearn.svm import SVC\n",
    "from sklearn.metrics import roc_curve, roc_auc_score\n",
    "from sklearn.model_selection import train_test_split\n",
    "\n",
    "from matplotlib import pyplot as plt\n",
    "import seaborn as sns\n",
    "%matplotlib inline\n",
    "\n",
    "import warnings\n",
    "warnings.filterwarnings(\"ignore\")   # to avoid matpltlib warning messages\n",
    "\n",
    "def plotROC(real, predicted):\n",
    "    fpr, tpr, thresholds = roc_curve(real, predicted, pos_label=1)\n",
    "    plt.clf()\n",
    "    plt.plot(fpr, tpr)\n",
    "    plt.title('ROC curve')\n",
    "    plt.plot([0, 1], [0, 1], 'k--')\n",
    "    plt.xlim([0.0, 1.0])\n",
    "    plt.ylim([0.0, 1.0])\n",
    "    plt.xlabel('False Positive Rate')\n",
    "    plt.ylabel('True Positive Rate')\n",
    "    plt.show()"
   ]
  },
  {
   "cell_type": "markdown",
   "metadata": {},
   "source": [
    "### Chargement des données\n",
    "Les données absentes sont représentées par un point d'interrogation"
   ]
  },
  {
   "cell_type": "code",
   "execution_count": 2,
   "metadata": {
    "collapsed": false
   },
   "outputs": [],
   "source": [
    "data = pd.read_csv('adult.csv', na_values='?')"
   ]
  },
  {
   "cell_type": "markdown",
   "metadata": {},
   "source": [
    "### Preprocessing"
   ]
  },
  {
   "cell_type": "markdown",
   "metadata": {},
   "source": [
    "On commence par supprimer les lignes avec des valeurs manquantes (environ 7% des données)"
   ]
  },
  {
   "cell_type": "code",
   "execution_count": 3,
   "metadata": {
    "collapsed": true
   },
   "outputs": [],
   "source": [
    "data = data.dropna(how='any')"
   ]
  },
  {
   "cell_type": "markdown",
   "metadata": {},
   "source": [
    "On regroupe les variables 'capital.gain' et 'capital.loss' qui sont toutes les deux positives en une seule variable 'capital.change' qui peut être négative en cas de perte en capital (positive sinon)"
   ]
  },
  {
   "cell_type": "code",
   "execution_count": 4,
   "metadata": {
    "collapsed": true
   },
   "outputs": [],
   "source": [
    "data['capital.change'] = data['capital.gain'] - data['capital.loss']\n",
    "data = data.drop(['capital.gain', 'capital.loss'], axis=1)"
   ]
  },
  {
   "cell_type": "markdown",
   "metadata": {},
   "source": [
    "On ignore la variable 'fnlwgt' qui représente la taille de la classe de population"
   ]
  },
  {
   "cell_type": "code",
   "execution_count": 5,
   "metadata": {
    "collapsed": true
   },
   "outputs": [],
   "source": [
    "data = data.drop('fnlwgt', axis=1)"
   ]
  },
  {
   "cell_type": "markdown",
   "metadata": {},
   "source": [
    "### Exploration des données"
   ]
  },
  {
   "cell_type": "markdown",
   "metadata": {},
   "source": [
    "Taille des données"
   ]
  },
  {
   "cell_type": "code",
   "execution_count": 6,
   "metadata": {
    "collapsed": false
   },
   "outputs": [
    {
     "data": {
      "text/plain": [
       "(30162, 13)"
      ]
     },
     "execution_count": 6,
     "metadata": {},
     "output_type": "execute_result"
    }
   ],
   "source": [
    "data.shape"
   ]
  },
  {
   "cell_type": "markdown",
   "metadata": {},
   "source": [
    "Echantillon"
   ]
  },
  {
   "cell_type": "code",
   "execution_count": 7,
   "metadata": {
    "collapsed": false
   },
   "outputs": [
    {
     "data": {
      "text/html": [
       "<div>\n",
       "<table border=\"1\" class=\"dataframe\">\n",
       "  <thead>\n",
       "    <tr style=\"text-align: right;\">\n",
       "      <th></th>\n",
       "      <th>age</th>\n",
       "      <th>workclass</th>\n",
       "      <th>education</th>\n",
       "      <th>education.num</th>\n",
       "      <th>marital.status</th>\n",
       "      <th>occupation</th>\n",
       "      <th>relationship</th>\n",
       "      <th>race</th>\n",
       "      <th>sex</th>\n",
       "      <th>hours.per.week</th>\n",
       "      <th>native.country</th>\n",
       "      <th>income</th>\n",
       "      <th>capital.change</th>\n",
       "    </tr>\n",
       "  </thead>\n",
       "  <tbody>\n",
       "    <tr>\n",
       "      <th>1</th>\n",
       "      <td>82</td>\n",
       "      <td>Private</td>\n",
       "      <td>HS-grad</td>\n",
       "      <td>9</td>\n",
       "      <td>Widowed</td>\n",
       "      <td>Exec-managerial</td>\n",
       "      <td>Not-in-family</td>\n",
       "      <td>White</td>\n",
       "      <td>Female</td>\n",
       "      <td>18</td>\n",
       "      <td>United-States</td>\n",
       "      <td>&lt;=50K</td>\n",
       "      <td>-4356</td>\n",
       "    </tr>\n",
       "    <tr>\n",
       "      <th>3</th>\n",
       "      <td>54</td>\n",
       "      <td>Private</td>\n",
       "      <td>7th-8th</td>\n",
       "      <td>4</td>\n",
       "      <td>Divorced</td>\n",
       "      <td>Machine-op-inspct</td>\n",
       "      <td>Unmarried</td>\n",
       "      <td>White</td>\n",
       "      <td>Female</td>\n",
       "      <td>40</td>\n",
       "      <td>United-States</td>\n",
       "      <td>&lt;=50K</td>\n",
       "      <td>-3900</td>\n",
       "    </tr>\n",
       "    <tr>\n",
       "      <th>4</th>\n",
       "      <td>41</td>\n",
       "      <td>Private</td>\n",
       "      <td>Some-college</td>\n",
       "      <td>10</td>\n",
       "      <td>Separated</td>\n",
       "      <td>Prof-specialty</td>\n",
       "      <td>Own-child</td>\n",
       "      <td>White</td>\n",
       "      <td>Female</td>\n",
       "      <td>40</td>\n",
       "      <td>United-States</td>\n",
       "      <td>&lt;=50K</td>\n",
       "      <td>-3900</td>\n",
       "    </tr>\n",
       "    <tr>\n",
       "      <th>5</th>\n",
       "      <td>34</td>\n",
       "      <td>Private</td>\n",
       "      <td>HS-grad</td>\n",
       "      <td>9</td>\n",
       "      <td>Divorced</td>\n",
       "      <td>Other-service</td>\n",
       "      <td>Unmarried</td>\n",
       "      <td>White</td>\n",
       "      <td>Female</td>\n",
       "      <td>45</td>\n",
       "      <td>United-States</td>\n",
       "      <td>&lt;=50K</td>\n",
       "      <td>-3770</td>\n",
       "    </tr>\n",
       "    <tr>\n",
       "      <th>6</th>\n",
       "      <td>38</td>\n",
       "      <td>Private</td>\n",
       "      <td>10th</td>\n",
       "      <td>6</td>\n",
       "      <td>Separated</td>\n",
       "      <td>Adm-clerical</td>\n",
       "      <td>Unmarried</td>\n",
       "      <td>White</td>\n",
       "      <td>Male</td>\n",
       "      <td>40</td>\n",
       "      <td>United-States</td>\n",
       "      <td>&lt;=50K</td>\n",
       "      <td>-3770</td>\n",
       "    </tr>\n",
       "  </tbody>\n",
       "</table>\n",
       "</div>"
      ],
      "text/plain": [
       "   age workclass     education  education.num marital.status  \\\n",
       "1   82   Private       HS-grad              9        Widowed   \n",
       "3   54   Private       7th-8th              4       Divorced   \n",
       "4   41   Private  Some-college             10      Separated   \n",
       "5   34   Private       HS-grad              9       Divorced   \n",
       "6   38   Private          10th              6      Separated   \n",
       "\n",
       "          occupation   relationship   race     sex  hours.per.week  \\\n",
       "1    Exec-managerial  Not-in-family  White  Female              18   \n",
       "3  Machine-op-inspct      Unmarried  White  Female              40   \n",
       "4     Prof-specialty      Own-child  White  Female              40   \n",
       "5      Other-service      Unmarried  White  Female              45   \n",
       "6       Adm-clerical      Unmarried  White    Male              40   \n",
       "\n",
       "  native.country income  capital.change  \n",
       "1  United-States  <=50K           -4356  \n",
       "3  United-States  <=50K           -3900  \n",
       "4  United-States  <=50K           -3900  \n",
       "5  United-States  <=50K           -3770  \n",
       "6  United-States  <=50K           -3770  "
      ]
     },
     "execution_count": 7,
     "metadata": {},
     "output_type": "execute_result"
    }
   ],
   "source": [
    "data.head()"
   ]
  },
  {
   "cell_type": "markdown",
   "metadata": {},
   "source": [
    "Les différentes variables et leurs types.  "
   ]
  },
  {
   "cell_type": "code",
   "execution_count": 8,
   "metadata": {
    "collapsed": false
   },
   "outputs": [
    {
     "data": {
      "text/plain": [
       "age                int64\n",
       "workclass         object\n",
       "education         object\n",
       "education.num      int64\n",
       "marital.status    object\n",
       "occupation        object\n",
       "relationship      object\n",
       "race              object\n",
       "sex               object\n",
       "hours.per.week     int64\n",
       "native.country    object\n",
       "income            object\n",
       "capital.change     int64\n",
       "dtype: object"
      ]
     },
     "execution_count": 8,
     "metadata": {},
     "output_type": "execute_result"
    }
   ],
   "source": [
    "data.dtypes"
   ]
  },
  {
   "cell_type": "markdown",
   "metadata": {},
   "source": [
    "Quelques statistiques descriptives sur les variables numériques.  \n",
    "On voit que certaines valeurs semblent aberrantes (heures travaillées à 99)"
   ]
  },
  {
   "cell_type": "code",
   "execution_count": 9,
   "metadata": {
    "collapsed": false
   },
   "outputs": [
    {
     "data": {
      "text/html": [
       "<div>\n",
       "<table border=\"1\" class=\"dataframe\">\n",
       "  <thead>\n",
       "    <tr style=\"text-align: right;\">\n",
       "      <th></th>\n",
       "      <th>age</th>\n",
       "      <th>education.num</th>\n",
       "      <th>hours.per.week</th>\n",
       "      <th>capital.change</th>\n",
       "    </tr>\n",
       "  </thead>\n",
       "  <tbody>\n",
       "    <tr>\n",
       "      <th>count</th>\n",
       "      <td>30162.000000</td>\n",
       "      <td>30162.000000</td>\n",
       "      <td>30162.000000</td>\n",
       "      <td>30162.000000</td>\n",
       "    </tr>\n",
       "    <tr>\n",
       "      <th>mean</th>\n",
       "      <td>38.437902</td>\n",
       "      <td>10.121312</td>\n",
       "      <td>40.931238</td>\n",
       "      <td>1003.635369</td>\n",
       "    </tr>\n",
       "    <tr>\n",
       "      <th>std</th>\n",
       "      <td>13.134665</td>\n",
       "      <td>2.549995</td>\n",
       "      <td>11.979984</td>\n",
       "      <td>7430.372730</td>\n",
       "    </tr>\n",
       "    <tr>\n",
       "      <th>min</th>\n",
       "      <td>17.000000</td>\n",
       "      <td>1.000000</td>\n",
       "      <td>1.000000</td>\n",
       "      <td>-4356.000000</td>\n",
       "    </tr>\n",
       "    <tr>\n",
       "      <th>25%</th>\n",
       "      <td>28.000000</td>\n",
       "      <td>9.000000</td>\n",
       "      <td>40.000000</td>\n",
       "      <td>0.000000</td>\n",
       "    </tr>\n",
       "    <tr>\n",
       "      <th>50%</th>\n",
       "      <td>37.000000</td>\n",
       "      <td>10.000000</td>\n",
       "      <td>40.000000</td>\n",
       "      <td>0.000000</td>\n",
       "    </tr>\n",
       "    <tr>\n",
       "      <th>75%</th>\n",
       "      <td>47.000000</td>\n",
       "      <td>13.000000</td>\n",
       "      <td>45.000000</td>\n",
       "      <td>0.000000</td>\n",
       "    </tr>\n",
       "    <tr>\n",
       "      <th>max</th>\n",
       "      <td>90.000000</td>\n",
       "      <td>16.000000</td>\n",
       "      <td>99.000000</td>\n",
       "      <td>99999.000000</td>\n",
       "    </tr>\n",
       "  </tbody>\n",
       "</table>\n",
       "</div>"
      ],
      "text/plain": [
       "                age  education.num  hours.per.week  capital.change\n",
       "count  30162.000000   30162.000000    30162.000000    30162.000000\n",
       "mean      38.437902      10.121312       40.931238     1003.635369\n",
       "std       13.134665       2.549995       11.979984     7430.372730\n",
       "min       17.000000       1.000000        1.000000    -4356.000000\n",
       "25%       28.000000       9.000000       40.000000        0.000000\n",
       "50%       37.000000      10.000000       40.000000        0.000000\n",
       "75%       47.000000      13.000000       45.000000        0.000000\n",
       "max       90.000000      16.000000       99.000000    99999.000000"
      ]
     },
     "execution_count": 9,
     "metadata": {},
     "output_type": "execute_result"
    }
   ],
   "source": [
    "data.describe()"
   ]
  },
  {
   "cell_type": "markdown",
   "metadata": {},
   "source": [
    "La variable a prédire est déséquilibrée: 75% des données concernent des personnes avec un revenu <= 50K $ par an."
   ]
  },
  {
   "cell_type": "code",
   "execution_count": 10,
   "metadata": {
    "collapsed": false
   },
   "outputs": [
    {
     "data": {
      "text/plain": [
       "<=50K    22654\n",
       ">50K      7508\n",
       "Name: income, dtype: int64"
      ]
     },
     "execution_count": 10,
     "metadata": {},
     "output_type": "execute_result"
    }
   ],
   "source": [
    "data['income'].value_counts()"
   ]
  },
  {
   "cell_type": "markdown",
   "metadata": {},
   "source": [
    "### Visualisation"
   ]
  },
  {
   "cell_type": "markdown",
   "metadata": {},
   "source": [
    "On représente ici le nombre de cas dans chaque catégorie sur quelques variables telles que l'age ou le sexe."
   ]
  },
  {
   "cell_type": "code",
   "execution_count": 11,
   "metadata": {
    "collapsed": false
   },
   "outputs": [
    {
     "data": {
      "image/png": "[encoded data removed]",
      "text/plain": [
       "<matplotlib.figure.Figure at 0x7fd7305f2da0>"
      ]
     },
     "metadata": {},
     "output_type": "display_data"
    },
    {
     "data": {
      "image/png": "[encoded data removed]",
      "text/plain": [
       "<matplotlib.figure.Figure at 0x7fd7305f2e80>"
      ]
     },
     "metadata": {},
     "output_type": "display_data"
    },
    {
     "data": {
      "image/png": "[encoded data removed]",
      "text/plain": [
       "<matplotlib.figure.Figure at 0x7fd7305f2d68>"
      ]
     },
     "metadata": {},
     "output_type": "display_data"
    },
    {
     "data": {
      "image/png": "[encoded data removed]",
      "text/plain": [
       "<matplotlib.figure.Figure at 0x7fd72da6b7f0>"
      ]
     },
     "metadata": {},
     "output_type": "display_data"
    },
    {
     "data": {
      "image/png": "[encoded data removed]",
      "text/plain": [
       "<matplotlib.figure.Figure at 0x7fd72d8645f8>"
      ]
     },
     "metadata": {},
     "output_type": "display_data"
    }
   ],
   "source": [
    "for column in ['sex', 'age', 'education', 'occupation', 'race']:\n",
    "    df = pd.concat((data[column], pd.get_dummies(data['income'])), axis=1)\n",
    "    df.groupby(column).sum().plot.bar(stacked=True)"
   ]
  },
  {
   "cell_type": "markdown",
   "metadata": {},
   "source": [
    "On voit déjà que certaines variables comme le sexe, l'age le niveau d'études ou encore le métiers semblent\n",
    "particulièrement explicatives si l'on cherche à prédire le fait de gagner ou non plus de 50K $ par an.\n",
    "\n",
    "La population des personnes gagnant plus de 50K $ par an semble majoritairement composée d'hommes blancs d'age moyen\n",
    "ayant  fait des études supérieures."
   ]
  },
  {
   "cell_type": "markdown",
   "metadata": {},
   "source": [
    "# II - Création d'un modèle prédictif"
   ]
  },
  {
   "cell_type": "markdown",
   "metadata": {},
   "source": [
    "### Création des datasets d'entrainement, de validation et test"
   ]
  },
  {
   "cell_type": "markdown",
   "metadata": {},
   "source": [
    "Variable à prédire"
   ]
  },
  {
   "cell_type": "code",
   "execution_count": 12,
   "metadata": {
    "collapsed": false
   },
   "outputs": [],
   "source": [
    "y = pd.get_dummies(data.income)['>50K']"
   ]
  },
  {
   "cell_type": "markdown",
   "metadata": {},
   "source": [
    "Features utilisées pour la prédiction.  \n",
    "On transforme ici les variables catégorielles en variables binaires, puis on les centre/réduit."
   ]
  },
  {
   "cell_type": "code",
   "execution_count": 13,
   "metadata": {
    "collapsed": false
   },
   "outputs": [],
   "source": [
    "categorical_variables = ['workclass', 'education', 'marital.status', 'occupation',\n",
    "                         'relationship', 'race', 'sex', 'native.country']\n",
    "X = pd.DataFrame()\n",
    "for variable in [col for col in data.columns if col != 'income']:\n",
    "    if variable in categorical_variables:\n",
    "        dummies = pd.get_dummies(data[variable], drop_first=False)\n",
    "        column_names = [variable + '_' + category for category in dummies.columns]\n",
    "        X[column_names] = dummies\n",
    "    else:\n",
    "        X[variable] = data[variable]\n",
    "\n",
    "variables = X.columns\n",
    "X = scale(X)"
   ]
  },
  {
   "cell_type": "markdown",
   "metadata": {},
   "source": [
    "On sépare les données entre: \n",
    "- données d'entrainement, utilisées pour entraîner les modèles: 80% des données\n",
    "- données de validation, utilisées pour sélectionner les hyperparamètres des modèles: 10% des données\n",
    "- données de test, utilisées pour évaluer les modèles : 10% des données"
   ]
  },
  {
   "cell_type": "code",
   "execution_count": 14,
   "metadata": {
    "collapsed": false
   },
   "outputs": [],
   "source": [
    "X_train, X_test, y_train, y_test = train_test_split(X, y, train_size=0.8, random_state=42)\n",
    "X_valid, X_test, y_valid, y_test = train_test_split(X_test, y_test, train_size=0.5, random_state=42)"
   ]
  },
  {
   "cell_type": "markdown",
   "metadata": {},
   "source": [
    "On va ensuite entraîner différents modèles sur nos données.  \n",
    "Etant donné que les classes a prédire sont déséquilibrées, la métrique utilisée sera l'[AUC](https://en.wikipedia.org/wiki/Receiver_operating_characteristic#Area_under_the_curve) (aire sous la [courbe ROC](https://en.wikipedia.org/wiki/Receiver_operating_characteristic))."
   ]
  },
  {
   "cell_type": "markdown",
   "metadata": {},
   "source": [
    "### Entraînement des modèles"
   ]
  },
  {
   "cell_type": "markdown",
   "metadata": {},
   "source": [
    "##### Régression logistique\n",
    "On commence par entraîner une régression logistique sur les données.  \n",
    "On teste différents paramètres de régularisation et on choisit le bon grâce au dataset de validation."
   ]
  },
  {
   "cell_type": "code",
   "execution_count": 15,
   "metadata": {
    "collapsed": false
   },
   "outputs": [
    {
     "data": {
      "image/png": "[encoded data removed]",
      "text/plain": [
       "<matplotlib.figure.Figure at 0x7fd72d81d390>"
      ]
     },
     "metadata": {},
     "output_type": "display_data"
    }
   ],
   "source": [
    "C_list =  [1e-6, 1e-5, 1e-4, 1e-3, 1e-2, 0.10, 1, 1e1, 1e2, 1e3]\n",
    "train_result = []\n",
    "valid_result = []\n",
    "regressions = []\n",
    "\n",
    "for C in C_list:\n",
    "    lr = LogisticRegression(C=C, class_weight ='balanced')\n",
    "    lr.fit(X_train, y_train)\n",
    "    regressions.append(lr)\n",
    "    train_result.append(roc_auc_score(y_train, lr.predict_proba(X_train)[:,1]))\n",
    "    valid_result.append(roc_auc_score(y_valid, lr.predict_proba(X_valid)[:,1]))\n",
    "\n",
    "plt.plot(C_list, train_result)\n",
    "plt.plot(C_list, valid_result)\n",
    "plt.xscale('log')\n",
    "plt.xlabel('Regularization parameter')\n",
    "plt.ylabel('Accuracy')\n",
    "plt.legend(['Training', 'Validation'], loc=0)\n",
    "plt.show()"
   ]
  },
  {
   "cell_type": "markdown",
   "metadata": {},
   "source": [
    "On voit que le modèle n'overfitte pas plus lorsque l'on a peu de régularisation (C élevé).  \n",
    "On prend alors C=1e-2 comme paramètre de régularisation et on trace la courbe ROC sur les données de test"
   ]
  },
  {
   "cell_type": "code",
   "execution_count": 16,
   "metadata": {
    "collapsed": false
   },
   "outputs": [
    {
     "name": "stdout",
     "output_type": "stream",
     "text": [
      "AUC on test data: 0.890\n"
     ]
    },
    {
     "data": {
      "image/png": "[encoded data removed]",
      "text/plain": [
       "<matplotlib.figure.Figure at 0x7fd72dbe46d8>"
      ]
     },
     "metadata": {},
     "output_type": "display_data"
    }
   ],
   "source": [
    "C = 1e-2\n",
    "i = C_list.index(C)\n",
    "lr = regressions[i]\n",
    "auc = roc_auc_score(y_test, lr.predict_proba(X_test)[:,1])\n",
    "print('AUC on test data: {:.3f}'.format(auc))\n",
    "plotROC(y_test, lr.predict_proba(X_test)[:, 1])"
   ]
  },
  {
   "cell_type": "markdown",
   "metadata": {},
   "source": [
    "Les 10 variables les plus importantes sont les suivantes:"
   ]
  },
  {
   "cell_type": "code",
   "execution_count": 17,
   "metadata": {
    "collapsed": false
   },
   "outputs": [
    {
     "data": {
      "text/plain": [
       "Index(['capital.change', 'marital.status_Married-civ-spouse', 'hours.per.week',\n",
       "       'age', 'marital.status_Never-married', 'education.num',\n",
       "       'relationship_Wife', 'relationship_Own-child',\n",
       "       'occupation_Other-service', 'occupation_Exec-managerial'],\n",
       "      dtype='object')"
      ]
     },
     "execution_count": 17,
     "metadata": {},
     "output_type": "execute_result"
    }
   ],
   "source": [
    "coefs = pd.Series(lr.coef_.ravel()).apply(lambda x: abs(x))\n",
    "coefs.sort(ascending=False)\n",
    "important_features = coefs[:10].index\n",
    "variables[important_features]"
   ]
  },
  {
   "cell_type": "markdown",
   "metadata": {},
   "source": [
    "On va maintenant passer à des modèles non linéaires."
   ]
  },
  {
   "cell_type": "markdown",
   "metadata": {},
   "source": [
    "##### Arbre de décision\n",
    "De manière similaire, on entraîne les données sur des arbres de décision, en testant différentes profondeurs d'arbre."
   ]
  },
  {
   "cell_type": "code",
   "execution_count": 18,
   "metadata": {
    "collapsed": false
   },
   "outputs": [
    {
     "data": {
      "image/png": "[encoded data removed]",
      "text/plain": [
       "<matplotlib.figure.Figure at 0x7fd72d92bf98>"
      ]
     },
     "metadata": {},
     "output_type": "display_data"
    }
   ],
   "source": [
    "depths =  [2, 3, 4, 5, 6, 7, 8, 9, 10, 15, 20]\n",
    "train_result = []\n",
    "valid_result = []\n",
    "decision_trees = []\n",
    "\n",
    "for depth in depths:\n",
    "    dt = DecisionTreeClassifier(max_depth=depth, class_weight='balanced')\n",
    "    dt.fit(X_train, y_train)\n",
    "    decision_trees.append(dt)\n",
    "    train_result.append(roc_auc_score(y_train, dt.predict_proba(X_train)[:,1]))\n",
    "    valid_result.append(roc_auc_score(y_valid, dt.predict_proba(X_valid)[:,1]))\n",
    "\n",
    "plt.plot(depths, train_result)\n",
    "plt.plot(depths, valid_result)\n",
    "plt.xlabel('Model max depth')\n",
    "plt.ylabel('AUC')\n",
    "plt.legend(['Training', 'Validation'], loc=0)\n",
    "plt.show()"
   ]
  },
  {
   "cell_type": "markdown",
   "metadata": {},
   "source": [
    "On voit qu'on-delà d'une profondeur de 9, le modèle overfitte.  \n",
    "Pour cette profondeur, l'AUC atteint est légèrement inférieur à 0,90."
   ]
  },
  {
   "cell_type": "code",
   "execution_count": 19,
   "metadata": {
    "collapsed": false
   },
   "outputs": [
    {
     "name": "stdout",
     "output_type": "stream",
     "text": [
      "AUC on test data: 0.890\n"
     ]
    },
    {
     "data": {
      "image/png": "[encoded data removed]",
      "text/plain": [
       "<matplotlib.figure.Figure at 0x7fd72da14eb8>"
      ]
     },
     "metadata": {},
     "output_type": "display_data"
    }
   ],
   "source": [
    "max_depth = 9\n",
    "i = depths.index(max_depth)\n",
    "dt = decision_trees[i]\n",
    "auc = roc_auc_score(y_test, dt.predict_proba(X_test)[:,1])\n",
    "print('AUC on test data: {:.3f}'.format(auc))\n",
    "plotROC(y_test, dt.predict_proba(X_test)[:, 1])"
   ]
  },
  {
   "cell_type": "markdown",
   "metadata": {},
   "source": [
    "Les features les plus importantes sont les suivantes:"
   ]
  },
  {
   "cell_type": "code",
   "execution_count": 20,
   "metadata": {
    "collapsed": false
   },
   "outputs": [
    {
     "data": {
      "text/plain": [
       "Index(['age', 'education.num', 'marital.status_Married-civ-spouse',\n",
       "       'hours.per.week', 'capital.change'],\n",
       "      dtype='object')"
      ]
     },
     "execution_count": 20,
     "metadata": {},
     "output_type": "execute_result"
    }
   ],
   "source": [
    "variables[dt.feature_importances_ > 0.01]"
   ]
  },
  {
   "cell_type": "markdown",
   "metadata": {},
   "source": [
    "On voit que dans les deux modèles, l'age, le niveau d'éducation, le nombre d'heures travaillées par semaine,\n",
    "l'état civil ou encore les gains en capital sont très informatives pour permettre de prédire si une personne gagne ou non plus de 50K $ par an."
   ]
  },
  {
   "cell_type": "markdown",
   "metadata": {},
   "source": [
    "# III - Conclusions"
   ]
  },
  {
   "cell_type": "markdown",
   "metadata": {},
   "source": [
    "L'utilisation de modèles non linéaires a ici relativement peu d'impact sur la métrique, par rapport à une simple régression logistique.  \n",
    "Toutefois, des arbres de décisions par exemple ont l'avantage d'être plus facilement interprétables.  \n",
    "Quel que soit le modèle retenu, on obtient une AUC d'environ 0,89."
   ]
  },
  {
   "cell_type": "markdown",
   "metadata": {},
   "source": [
    "### Pour aller plus loin"
   ]
  },
  {
   "cell_type": "markdown",
   "metadata": {},
   "source": [
    "Afin d'améliorer les modèles prédictifs, on pourrait:\n",
    "- prendre en compte les valeurs manquantes (les arbres de décisions le peuvent par exemple, mais cela n'a pas été géré ici)\n",
    "- traiter les valeurs aberrantes\n",
    "- préprocesser les données en faisant une ACP afin de présélectionner les features\n",
    "- ajuster un peu plus finement les autres paramètres des modèles (on n'a joué seulement sur le paramètre de régularisation de la régression et sur la profondeur de l'arbre)\n",
    "- utiliser d'autres types de modèles (XGBoost par exemple)\n",
    "- agréger plusieurs modèles"
   ]
  }
 ],
 "metadata": {
  "kernelspec": {
   "display_name": "Python 3",
   "language": "python",
   "name": "python3"
  },
  "language_info": {
   "codemirror_mode": {
    "name": "ipython",
    "version": 3
   },
   "file_extension": ".py",
   "mimetype": "text/x-python",
   "name": "python",
   "nbconvert_exporter": "python",
   "pygments_lexer": "ipython3",
   "version": "3.6.0"
  }
 },
 "nbformat": 4,
 "nbformat_minor": 2
}
